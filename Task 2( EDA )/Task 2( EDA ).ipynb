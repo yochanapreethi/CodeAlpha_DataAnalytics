{
 "cells": [
  {
   "cell_type": "markdown",
   "id": "e5e605e8-c158-4ca6-bf1c-3926fabe3ebd",
   "metadata": {},
   "source": [
    "# IPL Dataset"
   ]
  },
  {
   "cell_type": "markdown",
   "id": "010e259d-2345-4aac-a57a-0eacf9bdb6d0",
   "metadata": {},
   "source": [
    "Importing the dataset and libraries"
   ]
  },
  {
   "cell_type": "code",
   "execution_count": 3,
   "id": "2d32fd61-15ec-4ff7-824c-c78c9266cdb7",
   "metadata": {},
   "outputs": [],
   "source": [
    "import pandas as pd\n",
    "import numpy as np"
   ]
  },
  {
   "cell_type": "code",
   "execution_count": 19,
   "id": "3127c083-3bcd-493a-a1a4-a78d9c210aae",
   "metadata": {},
   "outputs": [
    {
     "name": "stdout",
     "output_type": "stream",
     "text": [
      "       id   season        city        date match_type player_of_match  \\\n",
      "0  335982  2007/08   Bangalore  2008-04-18     League     BB McCullum   \n",
      "1  335983  2007/08  Chandigarh  2008-04-19     League      MEK Hussey   \n",
      "2  335984  2007/08       Delhi  2008-04-19     League     MF Maharoof   \n",
      "3  335985  2007/08      Mumbai  2008-04-20     League      MV Boucher   \n",
      "4  335986  2007/08     Kolkata  2008-04-20     League       DJ Hussey   \n",
      "\n",
      "                                        venue                        team1  \\\n",
      "0                       M Chinnaswamy Stadium  Royal Challengers Bangalore   \n",
      "1  Punjab Cricket Association Stadium, Mohali              Kings XI Punjab   \n",
      "2                            Feroz Shah Kotla             Delhi Daredevils   \n",
      "3                            Wankhede Stadium               Mumbai Indians   \n",
      "4                                Eden Gardens        Kolkata Knight Riders   \n",
      "\n",
      "                         team2                  toss_winner toss_decision  \\\n",
      "0        Kolkata Knight Riders  Royal Challengers Bangalore         field   \n",
      "1          Chennai Super Kings          Chennai Super Kings           bat   \n",
      "2             Rajasthan Royals             Rajasthan Royals           bat   \n",
      "3  Royal Challengers Bangalore               Mumbai Indians           bat   \n",
      "4              Deccan Chargers              Deccan Chargers           bat   \n",
      "\n",
      "                        winner   result  result_margin  target_runs  \\\n",
      "0        Kolkata Knight Riders     runs          140.0        223.0   \n",
      "1          Chennai Super Kings     runs           33.0        241.0   \n",
      "2             Delhi Daredevils  wickets            9.0        130.0   \n",
      "3  Royal Challengers Bangalore  wickets            5.0        166.0   \n",
      "4        Kolkata Knight Riders  wickets            5.0        111.0   \n",
      "\n",
      "   target_overs super_over method    umpire1         umpire2  \n",
      "0          20.0          N    NaN  Asad Rauf     RE Koertzen  \n",
      "1          20.0          N    NaN  MR Benson      SL Shastri  \n",
      "2          20.0          N    NaN  Aleem Dar  GA Pratapkumar  \n",
      "3          20.0          N    NaN   SJ Davis       DJ Harper  \n",
      "4          20.0          N    NaN  BF Bowden     K Hariharan  \n",
      "   match_id  inning           batting_team                 bowling_team  over  \\\n",
      "0    335982       1  Kolkata Knight Riders  Royal Challengers Bangalore     0   \n",
      "1    335982       1  Kolkata Knight Riders  Royal Challengers Bangalore     0   \n",
      "2    335982       1  Kolkata Knight Riders  Royal Challengers Bangalore     0   \n",
      "3    335982       1  Kolkata Knight Riders  Royal Challengers Bangalore     0   \n",
      "4    335982       1  Kolkata Knight Riders  Royal Challengers Bangalore     0   \n",
      "\n",
      "   ball       batter   bowler  non_striker  batsman_runs  extra_runs  \\\n",
      "0     1   SC Ganguly  P Kumar  BB McCullum             0           1   \n",
      "1     2  BB McCullum  P Kumar   SC Ganguly             0           0   \n",
      "2     3  BB McCullum  P Kumar   SC Ganguly             0           1   \n",
      "3     4  BB McCullum  P Kumar   SC Ganguly             0           0   \n",
      "4     5  BB McCullum  P Kumar   SC Ganguly             0           0   \n",
      "\n",
      "   total_runs extras_type  is_wicket player_dismissed dismissal_kind fielder  \n",
      "0           1     legbyes          0              NaN            NaN     NaN  \n",
      "1           0         NaN          0              NaN            NaN     NaN  \n",
      "2           1       wides          0              NaN            NaN     NaN  \n",
      "3           0         NaN          0              NaN            NaN     NaN  \n",
      "4           0         NaN          0              NaN            NaN     NaN  \n"
     ]
    }
   ],
   "source": [
    "# Load the datasets with corrected paths\n",
    "matches = pd.read_csv('../Task 1/matches.csv')\n",
    "deliveries = pd.read_csv('../Task 1/deliveries.csv')\n",
    "\n",
    "# Preview the data\n",
    "print(matches.head())\n",
    "print(deliveries.head())\n"
   ]
  },
  {
   "cell_type": "code",
   "execution_count": 5,
   "id": "e9ed6156-bcc4-494e-9e3c-d272539475b0",
   "metadata": {},
   "outputs": [
    {
     "name": "stdout",
     "output_type": "stream",
     "text": [
      "<class 'pandas.core.frame.DataFrame'>\n",
      "RangeIndex: 1095 entries, 0 to 1094\n",
      "Data columns (total 20 columns):\n",
      " #   Column           Non-Null Count  Dtype  \n",
      "---  ------           --------------  -----  \n",
      " 0   id               1095 non-null   int64  \n",
      " 1   season           1095 non-null   object \n",
      " 2   city             1044 non-null   object \n",
      " 3   date             1095 non-null   object \n",
      " 4   match_type       1095 non-null   object \n",
      " 5   player_of_match  1090 non-null   object \n",
      " 6   venue            1095 non-null   object \n",
      " 7   team1            1095 non-null   object \n",
      " 8   team2            1095 non-null   object \n",
      " 9   toss_winner      1095 non-null   object \n",
      " 10  toss_decision    1095 non-null   object \n",
      " 11  winner           1090 non-null   object \n",
      " 12  result           1095 non-null   object \n",
      " 13  result_margin    1076 non-null   float64\n",
      " 14  target_runs      1092 non-null   float64\n",
      " 15  target_overs     1092 non-null   float64\n",
      " 16  super_over       1095 non-null   object \n",
      " 17  method           21 non-null     object \n",
      " 18  umpire1          1095 non-null   object \n",
      " 19  umpire2          1095 non-null   object \n",
      "dtypes: float64(3), int64(1), object(16)\n",
      "memory usage: 171.2+ KB\n",
      "None\n",
      "                 id  result_margin  target_runs  target_overs\n",
      "count  1.095000e+03    1076.000000  1092.000000   1092.000000\n",
      "mean   9.048283e+05      17.259294   165.684066     19.759341\n",
      "std    3.677402e+05      21.787444    33.427048      1.581108\n",
      "min    3.359820e+05       1.000000    43.000000      5.000000\n",
      "25%    5.483315e+05       6.000000   146.000000     20.000000\n",
      "50%    9.809610e+05       8.000000   166.000000     20.000000\n",
      "75%    1.254062e+06      20.000000   187.000000     20.000000\n",
      "max    1.426312e+06     146.000000   288.000000     20.000000\n"
     ]
    }
   ],
   "source": [
    "print(matches.info())\n",
    "print(matches.describe())\n",
    "\n"
   ]
  },
  {
   "cell_type": "code",
   "execution_count": null,
   "id": "e771585e-392a-4308-94e3-312f4a7a9cc9",
   "metadata": {},
   "outputs": [
    {
     "name": "stdout",
     "output_type": "stream",
     "text": [
      "id                    0\n",
      "season                0\n",
      "city                 51\n",
      "date                  0\n",
      "match_type            0\n",
      "player_of_match       5\n",
      "venue                 0\n",
      "team1                 0\n",
      "team2                 0\n",
      "toss_winner           0\n",
      "toss_decision         0\n",
      "winner                5\n",
      "result                0\n",
      "result_margin        19\n",
      "target_runs           3\n",
      "target_overs          3\n",
      "super_over            0\n",
      "method             1074\n",
      "umpire1               0\n",
      "umpire2               0\n",
      "dtype: int64\n"
     ]
    }
   ],
   "source": [
    "#Checking for any null values\n",
    "print(matches.isnull().sum())"
   ]
  },
  {
   "cell_type": "code",
   "execution_count": 7,
   "id": "20480412-14dd-4f70-be70-202110b10c8b",
   "metadata": {},
   "outputs": [
    {
     "name": "stdout",
     "output_type": "stream",
     "text": [
      "Remaining missing values:\n",
      "\n",
      "id                 0\n",
      "season             0\n",
      "city               0\n",
      "date               0\n",
      "match_type         0\n",
      "player_of_match    0\n",
      "venue              0\n",
      "team1              0\n",
      "team2              0\n",
      "toss_winner        0\n",
      "toss_decision      0\n",
      "winner             0\n",
      "result             0\n",
      "result_margin      0\n",
      "target_runs        0\n",
      "target_overs       0\n",
      "super_over         0\n",
      "method             0\n",
      "umpire1            0\n",
      "umpire2            0\n",
      "dtype: int64\n"
     ]
    }
   ],
   "source": [
    "# Fill missing values \n",
    "matches['city'] = matches['city'].fillna('Unknown')\n",
    "matches['player_of_match'] = matches['player_of_match'].fillna('No Award')\n",
    "matches['winner'] = matches['winner'].fillna('No Result')\n",
    "matches['result_margin'] = matches['result_margin'].fillna(0)\n",
    "matches['method'] = matches['method'].fillna('Normal')\n",
    "\n",
    "# Drop rows where target_runs or target_overs are missing\n",
    "matches = matches.dropna(subset=['target_runs', 'target_overs'])\n",
    "\n",
    "# Final check\n",
    "print(\"Remaining missing values:\\n\")\n",
    "print(matches.isnull().sum())\n"
   ]
  },
  {
   "cell_type": "markdown",
   "id": "84c3f83a-69f8-413c-ae73-ef1fc1758336",
   "metadata": {},
   "source": [
    "## 1.  Number of matches played by each Team"
   ]
  },
  {
   "cell_type": "code",
   "execution_count": 8,
   "id": "56f5d21d-b351-469e-b82d-1cc175210041",
   "metadata": {},
   "outputs": [
    {
     "data": {
      "text/plain": [
       "team1\n",
       "Royal Challengers Bangalore    134\n",
       "Chennai Super Kings            128\n",
       "Mumbai Indians                 123\n",
       "Kolkata Knight Riders          121\n",
       "Rajasthan Royals               101\n",
       "Kings XI Punjab                 92\n",
       "Sunrisers Hyderabad             86\n",
       "Delhi Daredevils                84\n",
       "Delhi Capitals                  41\n",
       "Deccan Chargers                 39\n",
       "Punjab Kings                    31\n",
       "Pune Warriors                   23\n",
       "Lucknow Super Giants            22\n",
       "Gujarat Titans                  21\n",
       "Gujarat Lions                   16\n",
       "Royal Challengers Bengaluru      9\n",
       "Kochi Tuskers Kerala             7\n",
       "Rising Pune Supergiant           7\n",
       "Rising Pune Supergiants          7\n",
       "Name: count, dtype: int64"
      ]
     },
     "execution_count": 8,
     "metadata": {},
     "output_type": "execute_result"
    }
   ],
   "source": [
    "matches['team1'].value_counts()\n"
   ]
  },
  {
   "cell_type": "markdown",
   "id": "2d52fc69-eb0b-4c13-81d7-c3ff1bc62fb2",
   "metadata": {},
   "source": [
    "## 2. Top 10 Winning Teams"
   ]
  },
  {
   "cell_type": "code",
   "execution_count": 9,
   "id": "64c64186-fa14-4f04-8141-ddf3b024f433",
   "metadata": {},
   "outputs": [
    {
     "data": {
      "text/plain": [
       "winner\n",
       "Mumbai Indians                 144\n",
       "Chennai Super Kings            138\n",
       "Kolkata Knight Riders          131\n",
       "Royal Challengers Bangalore    116\n",
       "Rajasthan Royals               112\n",
       "Kings XI Punjab                 88\n",
       "Sunrisers Hyderabad             88\n",
       "Delhi Daredevils                67\n",
       "Delhi Capitals                  48\n",
       "Deccan Chargers                 29\n",
       "Name: count, dtype: int64"
      ]
     },
     "execution_count": 9,
     "metadata": {},
     "output_type": "execute_result"
    }
   ],
   "source": [
    "matches['winner'].value_counts().head(10)\n"
   ]
  },
  {
   "cell_type": "markdown",
   "id": "8bf6fb91-3ce7-443d-b81a-b4f99f16f80c",
   "metadata": {},
   "source": [
    "## 3. Analysis based on Toss"
   ]
  },
  {
   "cell_type": "code",
   "execution_count": 10,
   "id": "3c7d8d87-dd74-4f04-a682-bd9e515c1521",
   "metadata": {},
   "outputs": [
    {
     "data": {
      "text/plain": [
       "toss_decision\n",
       "field    702\n",
       "bat      390\n",
       "Name: count, dtype: int64"
      ]
     },
     "execution_count": 10,
     "metadata": {},
     "output_type": "execute_result"
    }
   ],
   "source": [
    "matches['toss_decision'].value_counts()\n"
   ]
  },
  {
   "cell_type": "markdown",
   "id": "fc7a8e41-a6a4-40b2-acec-3892db34125a",
   "metadata": {},
   "source": [
    "## 4. Top 10 Players with the most POTM Award "
   ]
  },
  {
   "cell_type": "code",
   "execution_count": 11,
   "id": "a0949269-98b8-4770-96b2-a223d5bd81c4",
   "metadata": {},
   "outputs": [
    {
     "data": {
      "text/plain": [
       "player_of_match\n",
       "AB de Villiers    25\n",
       "CH Gayle          22\n",
       "RG Sharma         19\n",
       "DA Warner         18\n",
       "V Kohli           18\n",
       "MS Dhoni          17\n",
       "RA Jadeja         16\n",
       "YK Pathan         16\n",
       "SR Watson         16\n",
       "AD Russell        15\n",
       "Name: count, dtype: int64"
      ]
     },
     "execution_count": 11,
     "metadata": {},
     "output_type": "execute_result"
    }
   ],
   "source": [
    "matches['player_of_match'].value_counts().head(10)\n"
   ]
  },
  {
   "cell_type": "markdown",
   "id": "ddf06402-674e-4457-a48b-31ab5054d351",
   "metadata": {},
   "source": [
    "## 5. Count of Matches per season"
   ]
  },
  {
   "cell_type": "code",
   "execution_count": 16,
   "id": "3415d671-8531-4069-9d24-917b8d5569f6",
   "metadata": {},
   "outputs": [
    {
     "data": {
      "text/plain": [
       "season\n",
       "2007/08    58\n",
       "2009       57\n",
       "2009/10    60\n",
       "2011       72\n",
       "2012       74\n",
       "2013       76\n",
       "2014       60\n",
       "2015       58\n",
       "2016       60\n",
       "2017       59\n",
       "2018       60\n",
       "2019       60\n",
       "2020/21    60\n",
       "2021       60\n",
       "2022       74\n",
       "2023       73\n",
       "2024       71\n",
       "Name: count, dtype: int64"
      ]
     },
     "execution_count": 16,
     "metadata": {},
     "output_type": "execute_result"
    }
   ],
   "source": [
    "matches['season'].value_counts().sort_index()\n"
   ]
  },
  {
   "cell_type": "markdown",
   "id": "b2421950-109d-44cd-b071-0e872714c0fd",
   "metadata": {},
   "source": [
    "## 6. Top Batsman with highest Runs Per Season"
   ]
  },
  {
   "cell_type": "code",
   "execution_count": 13,
   "id": "43b04dc6-e752-4a56-aaf5-aadb45ded023",
   "metadata": {},
   "outputs": [
    {
     "name": "stdout",
     "output_type": "stream",
     "text": [
      "       season         batter  batsman_runs\n",
      "115   2007/08       SE Marsh           616\n",
      "229      2009      ML Hayden           572\n",
      "446   2009/10   SR Tendulkar           618\n",
      "502      2011       CH Gayle           608\n",
      "684      2012       CH Gayle           733\n",
      "910      2013     MEK Hussey           733\n",
      "1088     2014     RV Uthappa           660\n",
      "1148     2015      DA Warner           562\n",
      "1383     2016        V Kohli           973\n",
      "1422     2017      DA Warner           641\n",
      "1594     2018  KS Williamson           735\n",
      "1694     2019      DA Warner           692\n",
      "1866  2020/21       KL Rahul           676\n",
      "2051     2021     RD Gaikwad           635\n",
      "2144     2022     JC Buttler           863\n",
      "2422     2023   Shubman Gill           890\n",
      "2605     2024        V Kohli           741\n"
     ]
    }
   ],
   "source": [
    "\n",
    "# Standardize column names\n",
    "matches.columns = matches.columns.str.lower()\n",
    "deliveries.columns = deliveries.columns.str.lower()\n",
    "\n",
    "# Merge to get 'season' info in deliveries\n",
    "merged = deliveries.merge(matches[['id', 'season']], left_on='match_id', right_on='id')\n",
    "\n",
    "# Group by season and batter, then sum runs\n",
    "runs_per_season = merged.groupby(['season', 'batter'])['batsman_runs'].sum().reset_index()\n",
    "\n",
    "# Get top scorer of each season\n",
    "top_scorers = runs_per_season.sort_values(['season', 'batsman_runs'], ascending=[True, False]) \\\n",
    "                              .drop_duplicates(subset=['season'], keep='first')\n",
    "\n",
    "# Show result\n",
    "print(top_scorers)\n"
   ]
  },
  {
   "cell_type": "markdown",
   "id": "56f99f2d-7fc6-4691-a5d0-08b721e28513",
   "metadata": {},
   "source": [
    "## 7. Top Player with the most runs in Single Season"
   ]
  },
  {
   "cell_type": "code",
   "execution_count": 24,
   "id": "5a7a033f-bafd-463f-a3a5-53fd97d37537",
   "metadata": {},
   "outputs": [
    {
     "name": "stdout",
     "output_type": "stream",
     "text": [
      "     Season  Batsman  Runs\n",
      "1383   2016  V Kohli   973\n"
     ]
    }
   ],
   "source": [
    "\n",
    "# Lowercase column names for consistency\n",
    "matches.columns = matches.columns.str.lower()\n",
    "deliveries.columns = deliveries.columns.str.lower()\n",
    "\n",
    "# Merge 'season' into deliveries data\n",
    "merged = deliveries.merge(matches[['id', 'season']], left_on='match_id', right_on='id')\n",
    "\n",
    "# Group by season and batter, then sum the runs\n",
    "season_runs = merged.groupby(['season', 'batter'])['batsman_runs'].sum().reset_index()\n",
    "\n",
    "# Find the row with the maximum runs in a single season\n",
    "top_season_scorer = season_runs.sort_values(by='batsman_runs', ascending=False).head(1)\n",
    "\n",
    "# Rename columns for clarity\n",
    "top_season_scorer.columns = ['Season', 'Batsman', 'Runs']\n",
    "\n",
    "# Show the result\n",
    "print(top_season_scorer)\n"
   ]
  },
  {
   "cell_type": "markdown",
   "id": "530b6623-d32c-46a4-bcb5-775c15e87bbf",
   "metadata": {},
   "source": [
    "## 8. Top player with the most SIXES and FOURS"
   ]
  },
  {
   "cell_type": "code",
   "execution_count": 14,
   "id": "43f00b4a-abdb-4229-a7e4-bba86c56934c",
   "metadata": {},
   "outputs": [
    {
     "name": "stdout",
     "output_type": "stream",
     "text": [
      "🏏 Batsman with Most Sixes:\n",
      "    Batsman  Sixes\n",
      "0  CH Gayle    359\n",
      "\n",
      "🏏 Batsman with Most Fours:\n",
      "    Batsman  Fours\n",
      "0  S Dhawan    768\n"
     ]
    }
   ],
   "source": [
    "# Lowercase columns for consistency\n",
    "deliveries.columns = deliveries.columns.str.lower()\n",
    "\n",
    "# Most SIXES\n",
    "sixes = deliveries[deliveries['batsman_runs'] == 6]\n",
    "six_counts = sixes['batter'].value_counts().reset_index()\n",
    "six_counts.columns = ['Batsman', 'Sixes']\n",
    "top_sixer = six_counts.head(1)\n",
    "\n",
    "# Most FOURS\n",
    "fours = deliveries[deliveries['batsman_runs'] == 4]\n",
    "four_counts = fours['batter'].value_counts().reset_index()\n",
    "four_counts.columns = ['Batsman', 'Fours']\n",
    "top_four_hitter = four_counts.head(1)\n",
    "\n",
    "# Print results\n",
    "print(\"🏏 Batsman with Most Sixes:\")\n",
    "print(top_sixer)\n",
    "\n",
    "print(\"\\n🏏 Batsman with Most Fours:\")\n",
    "print(top_four_hitter)\n"
   ]
  }
 ],
 "metadata": {
  "kernelspec": {
   "display_name": "Python 3",
   "language": "python",
   "name": "python3"
  },
  "language_info": {
   "codemirror_mode": {
    "name": "ipython",
    "version": 3
   },
   "file_extension": ".py",
   "mimetype": "text/x-python",
   "name": "python",
   "nbconvert_exporter": "python",
   "pygments_lexer": "ipython3",
   "version": "3.13.3"
  }
 },
 "nbformat": 4,
 "nbformat_minor": 5
}
